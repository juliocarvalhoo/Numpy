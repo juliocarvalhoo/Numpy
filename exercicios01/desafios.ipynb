{
 "cells": [
  {
   "cell_type": "code",
   "execution_count": 4,
   "metadata": {},
   "outputs": [],
   "source": [
    "import numpy as np"
   ]
  },
  {
   "cell_type": "code",
   "execution_count": 31,
   "metadata": {},
   "outputs": [
    {
     "name": "stdout",
     "output_type": "stream",
     "text": [
      "vint:[0 0 0 4 4]\n",
      "valoresInt:[1 2 1 2 0]\n",
      "<class 'numpy.ndarray'>\n"
     ]
    },
    {
     "data": {
      "text/plain": [
       "numpy.ndarray"
      ]
     },
     "execution_count": 31,
     "metadata": {},
     "output_type": "execute_result"
    }
   ],
   "source": [
    "# Crie um array unidimensional com 5 elementos inteiros aleatórios.\n",
    "\n",
    "vint = np.array([np.random.randint(5) for x in range(5)])\n",
    "\n",
    "valoresInt = np.random.randint(5, size = (5))\n",
    "print(f\"vint:{vint}\")\n",
    "print(f\"valoresInt:{valoresInt}\")"
   ]
  },
  {
   "cell_type": "code",
   "execution_count": 33,
   "metadata": {},
   "outputs": [
    {
     "data": {
      "text/plain": [
       "array([[0.5749624 , 0.34916194],\n",
       "       [0.01423545, 0.41879419],\n",
       "       [0.5440853 , 0.39947159]])"
      ]
     },
     "execution_count": 33,
     "metadata": {},
     "output_type": "execute_result"
    }
   ],
   "source": [
    "#  2. Crie um array bidimensional de tamanho (3,2) com valores aleatórios de ponto flutuante entre 0 e 1\n",
    "arrayfloat = np.random.rand(3,2)\n",
    "arrayfloat23"
   ]
  },
  {
   "cell_type": "code",
   "execution_count": 44,
   "metadata": {},
   "outputs": [
    {
     "data": {
      "text/plain": [
       "array([[[20, 18, 15, 18],\n",
       "        [13, 11, 11, 11],\n",
       "        [11, 11, 12, 12]],\n",
       "\n",
       "       [[17, 16, 20, 18],\n",
       "        [19, 18, 19, 16],\n",
       "        [18, 12, 11, 11]],\n",
       "\n",
       "       [[11, 16, 11, 10],\n",
       "        [14, 11, 14, 10],\n",
       "        [15, 16, 15, 15]]])"
      ]
     },
     "execution_count": 44,
     "metadata": {},
     "output_type": "execute_result"
    }
   ],
   "source": [
    "#  3. Crie um array tridimensional de tamanho (2,3,4) com valores inteiros aleatórios entre 10 e 20.\n",
    "array3D = np.random.randint(low = 10, high=21, size = (2,3,4))\n",
    "array3D"
   ]
  },
  {
   "cell_type": "code",
   "execution_count": 65,
   "metadata": {},
   "outputs": [
    {
     "data": {
      "text/plain": [
       "array([0, 0, 0, 0, 0, 0, 0, 0, 0, 0])"
      ]
     },
     "execution_count": 65,
     "metadata": {},
     "output_type": "execute_result"
    }
   ],
   "source": [
    "# 4. Crie um array unidimensional com 10 elementos iguais a 0.\n",
    "array1D = np.zeros(10, dtype = int)\n",
    "array1D"
   ]
  },
  {
   "cell_type": "code",
   "execution_count": 6,
   "metadata": {},
   "outputs": [
    {
     "data": {
      "text/plain": [
       "array([[5., 5., 5., 5.],\n",
       "       [5., 5., 5., 5.],\n",
       "       [5., 5., 5., 5.],\n",
       "       [5., 5., 5., 5.]])"
      ]
     },
     "execution_count": 6,
     "metadata": {},
     "output_type": "execute_result"
    }
   ],
   "source": [
    "#  5. Crie um array bidimensional de tamanho (4,4) com valores iguais a 5.\n",
    "arrayCincos = np.full((4,4),5, dtype= float)\n",
    "arrayCincos"
   ]
  },
  {
   "cell_type": "code",
   "execution_count": 75,
   "metadata": {},
   "outputs": [
    {
     "data": {
      "text/plain": [
       "array([ 2,  4,  6,  8, 10, 12, 14, 16, 18, 20])"
      ]
     },
     "execution_count": 75,
     "metadata": {},
     "output_type": "execute_result"
    }
   ],
   "source": [
    "#  6. Crie um array unidimensional com 10 números pares começando do número 2.\n",
    "\n",
    "arrayPares = np.arange(start = 2, step= 2, stop=22)\n",
    "arrayPares"
   ]
  },
  {
   "cell_type": "code",
   "execution_count": 82,
   "metadata": {},
   "outputs": [
    {
     "data": {
      "text/plain": [
       "array([[-5, -5, -3, -2],\n",
       "       [-3,  0,  1, -5],\n",
       "       [ 5, -5, -1, -4],\n",
       "       [-3, -1, -4, -3]])"
      ]
     },
     "execution_count": 82,
     "metadata": {},
     "output_type": "execute_result"
    }
   ],
   "source": [
    "#  7. Crie um array bidimensional de tamanho (4,4) com valores inteiros aleatórios entre -5 e 5.\n",
    "array2D = np.random.randint(low = -5, high= 6,size = (4,4))\n",
    "array2D"
   ]
  },
  {
   "cell_type": "code",
   "execution_count": 85,
   "metadata": {},
   "outputs": [
    {
     "data": {
      "text/plain": [
       "array([10,  9,  8,  7,  6,  5,  4,  3,  2,  1])"
      ]
     },
     "execution_count": 85,
     "metadata": {},
     "output_type": "execute_result"
    }
   ],
   "source": [
    "#  8. Crie um array unidimensional com 10 elementos com valores decrescentes de 10 a 1.\n",
    "np.arange(start = 10, stop =0, step=-1)\n"
   ]
  },
  {
   "cell_type": "code",
   "execution_count": 102,
   "metadata": {},
   "outputs": [
    {
     "data": {
      "text/plain": [
       "array([[0, 2, 2],\n",
       "       [0, 1, 3],\n",
       "       [7, 0, 9]])"
      ]
     },
     "execution_count": 102,
     "metadata": {},
     "output_type": "execute_result"
    }
   ],
   "source": [
    "#  9. Crie um array bidimensional de tamanho (3,3) com valores inteiros aleatórios entre 0 e 9, \n",
    "# mas com o elemento central sempre igual a 1.\n",
    "arrayBd = np.random.randint(10,size = (3,3))\n",
    "arrayBd[1,1] = 1\n",
    "arrayBd"
   ]
  },
  {
   "cell_type": "code",
   "execution_count": 105,
   "metadata": {},
   "outputs": [
    {
     "data": {
      "text/plain": [
       "array([-0.90170198,  0.78233764,  0.45940516,  0.75855924,  0.80861927,\n",
       "        0.13845983,  0.84496672, -0.46193362, -0.3676952 ,  0.71561587,\n",
       "       -0.75076233,  0.45299484, -0.84260076,  0.12875565,  0.99260545,\n",
       "        0.86530975,  0.70999028, -0.49491591,  0.57588362,  0.61034834])"
      ]
     },
     "execution_count": 105,
     "metadata": {},
     "output_type": "execute_result"
    }
   ],
   "source": [
    "# 10. Crie um array unidimensional com 20 elementos aleatórios de ponto flutuante entre -1 e 1.\n",
    "np.random.uniform(size = (20), low = -1, high=1)"
   ]
  }
 ],
 "metadata": {
  "kernelspec": {
   "display_name": "Python 3",
   "language": "python",
   "name": "python3"
  },
  "language_info": {
   "codemirror_mode": {
    "name": "ipython",
    "version": 3
   },
   "file_extension": ".py",
   "mimetype": "text/x-python",
   "name": "python",
   "nbconvert_exporter": "python",
   "pygments_lexer": "ipython3",
   "version": "3.10.11"
  },
  "orig_nbformat": 4
 },
 "nbformat": 4,
 "nbformat_minor": 2
}
