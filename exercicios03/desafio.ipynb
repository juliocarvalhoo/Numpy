{
 "cells": [
  {
   "cell_type": "code",
   "execution_count": 4,
   "metadata": {},
   "outputs": [],
   "source": [
    "import numpy as np\n",
    "import pandas as pd"
   ]
  },
  {
   "cell_type": "code",
   "execution_count": 6,
   "metadata": {},
   "outputs": [
    {
     "data": {
      "text/plain": [
       "array([ 1,  2,  3,  4,  5,  6,  7,  8,  9, 10])"
      ]
     },
     "execution_count": 6,
     "metadata": {},
     "output_type": "execute_result"
    }
   ],
   "source": [
    "# Exercício 1:\n",
    "# Crie um array NumPy 1D com os números de 1 a 10.\n",
    "np.arange(start = 1, stop = 11, step = 1, dtype= int)\n",
    "\n",
    "\n"
   ]
  },
  {
   "cell_type": "code",
   "execution_count": 9,
   "metadata": {},
   "outputs": [
    {
     "data": {
      "text/plain": [
       "array([[1., 0., 0.],\n",
       "       [0., 1., 0.],\n",
       "       [0., 0., 1.]])"
      ]
     },
     "execution_count": 9,
     "metadata": {},
     "output_type": "execute_result"
    }
   ],
   "source": [
    "# Exercício 2:\n",
    "# Crie um array NumPy 2D com uma matriz identidade de ordem 3.\n",
    "np.identity(3, dtype= int)\n"
   ]
  },
  {
   "cell_type": "code",
   "execution_count": 38,
   "metadata": {},
   "outputs": [
    {
     "data": {
      "text/plain": [
       "array([ 1,  2,  3,  4,  5,  6,  7,  8,  9, 10, 11, 12])"
      ]
     },
     "metadata": {},
     "output_type": "display_data"
    },
    {
     "data": {
      "text/plain": [
       "array([[ 1,  5,  9],\n",
       "       [ 2,  6, 10],\n",
       "       [ 3,  7, 11],\n",
       "       [ 4,  8, 12]])"
      ]
     },
     "metadata": {},
     "output_type": "display_data"
    },
    {
     "data": {
      "text/plain": [
       "array([[-1.34164079, -1.34164079, -1.34164079],\n",
       "       [-0.4472136 , -0.4472136 , -0.4472136 ],\n",
       "       [ 0.4472136 ,  0.4472136 ,  0.4472136 ],\n",
       "       [ 1.34164079,  1.34164079,  1.34164079]])"
      ]
     },
     "execution_count": 38,
     "metadata": {},
     "output_type": "execute_result"
    }
   ],
   "source": [
    "# Exercício 3:\n",
    "# Dado o array NumPy abaixo, normalize os valores de cada coluna subtraindo a média e dividindo pelo desvio padrão:\n",
    "\n",
    "#         matriz =([[1, 5, 9],\n",
    "#                 [2, 6, 10],\n",
    "#                 [3, 7, 11],\n",
    "#                 [4, 8, 12]])\n",
    "\n",
    "arange_1 = np.arange(start = 1, stop = 13, step= 1)\n",
    "display(arange_1)\n",
    "\n",
    "#Alterar dimensão\n",
    "matriz_1 = arange_1.reshape((3,4))\n",
    "\n",
    "#Transposta\n",
    "matriz_1 = matriz_1.transpose()\n",
    "display(matriz_1)\n",
    "\n",
    "#media de desvio padrão por coluna\n",
    "media_1 = np.mean(matriz_1,axis=0)\n",
    "std_1 = np.std(matriz_1,axis = 0)\n",
    "\n",
    "#normalização\n",
    "matriz_1 = (matriz_1 - media_1) / std_1\n",
    "\n",
    "matriz_1"
   ]
  },
  {
   "cell_type": "code",
   "execution_count": 40,
   "metadata": {},
   "outputs": [
    {
     "data": {
      "text/plain": [
       "32"
      ]
     },
     "execution_count": 40,
     "metadata": {},
     "output_type": "execute_result"
    }
   ],
   "source": [
    "# Exercício 4:\n",
    "# Calcule o produto escalar entre dois vetores NumPy:\n",
    "\n",
    "# a = np.array([1, 2, 3])\n",
    "# b = np.array([4, 5, 6])\n",
    "\n",
    "a = np.arange(start =1,stop=4)\n",
    "b = np.arange(start=4,stop=7)\n",
    "\n",
    "#função calcula propduto escalar\n",
    "np.dot(a,b)"
   ]
  },
  {
   "cell_type": "code",
   "execution_count": 43,
   "metadata": {},
   "outputs": [
    {
     "data": {
      "text/plain": [
       "array([ 5, 12,  8, 20,  6, 15])"
      ]
     },
     "metadata": {},
     "output_type": "display_data"
    },
    {
     "data": {
      "text/plain": [
       "array([ 5, 10,  8, 10,  6, 10])"
      ]
     },
     "metadata": {},
     "output_type": "display_data"
    }
   ],
   "source": [
    "# Exercício 5:\n",
    "# Dado o array NumPy abaixo, substitua todos os valores maiores que 10 por 10:\n",
    "\n",
    "# matriz = ([5, 12, 8, 20, 6, 15])\n",
    "\n",
    "matriz_2 = np.array([5, 12, 8, 20, 6, 15])\n",
    "display(matriz_2)\n",
    "\n",
    "matriz_nova = np.where(matriz_2 < 10, matriz_2, 10)\n",
    "display(matriz_nova)\n",
    "\n"
   ]
  },
  {
   "cell_type": "code",
   "execution_count": 48,
   "metadata": {},
   "outputs": [
    {
     "data": {
      "text/plain": [
       "array([1, 2, 3, 5, 6, 7])"
      ]
     },
     "metadata": {},
     "output_type": "display_data"
    },
    {
     "data": {
      "text/plain": [
       "array([1, 2, 3, 5, 6, 7])"
      ]
     },
     "metadata": {},
     "output_type": "display_data"
    }
   ],
   "source": [
    "# Exercício 6:\n",
    "# Dado o array NumPy abaixo, retorne apenas os elementos únicos em ordem crescente:\n",
    "# matriz = ([3, 5, 1, 3, 2, 2, 5, 7, 6, 7])\n",
    "\n",
    "matriz_3 = np.array([3, 5, 1, 3, 2, 2, 5, 7, 6, 7])\n",
    "\n",
    "#maneira 1 \n",
    "display(np.unique(matriz_3))\n",
    "#maneira 2 \n",
    "display(np.array(list(set(matriz_3))))"
   ]
  },
  {
   "cell_type": "code",
   "execution_count": 52,
   "metadata": {},
   "outputs": [
    {
     "data": {
      "text/plain": [
       "array([[1, 2, 3],\n",
       "       [4, 5, 6],\n",
       "       [7, 8, 9]])"
      ]
     },
     "metadata": {},
     "output_type": "display_data"
    },
    {
     "data": {
      "text/plain": [
       "array([4., 5., 6.])"
      ]
     },
     "execution_count": 52,
     "metadata": {},
     "output_type": "execute_result"
    }
   ],
   "source": [
    "# Exercício 7:\n",
    "# Calcule a média dos elementos de cada coluna de um array NumPy 2D:\n",
    "\n",
    "#         matriz =([[1, 2, 3],\n",
    "#                 [4, 5, 6],\n",
    "#                 [7, 8, 9]])\n",
    "\n",
    "matriz_4 = np.arange(start=1, stop = 10)\n",
    "matriz_4 = np.reshape(matriz_4,(3,3))\n",
    "display(matriz_4)\n",
    "\n",
    "media_m4 = np.mean(matriz_4,axis=0)\n",
    "media_m4"
   ]
  },
  {
   "cell_type": "code",
   "execution_count": 56,
   "metadata": {},
   "outputs": [
    {
     "data": {
      "text/plain": [
       "array([[1, 2, 3],\n",
       "       [4, 5, 6],\n",
       "       [7, 8, 9]])"
      ]
     },
     "metadata": {},
     "output_type": "display_data"
    },
    {
     "data": {
      "text/plain": [
       "array([[3, 2, 1],\n",
       "       [6, 5, 4],\n",
       "       [9, 8, 7]])"
      ]
     },
     "execution_count": 56,
     "metadata": {},
     "output_type": "execute_result"
    }
   ],
   "source": [
    "# Exercício 8:\n",
    "# Dado o array NumPy abaixo, inverta a ordem das colunas:\n",
    "#         matriz=([[1, 2, 3],\n",
    "#                 [4, 5, 6],\n",
    "#                 [7, 8, 9]])\n",
    "matriz_5 = np.array([[1, 2, 3],[4, 5, 6],[7, 8, 9]])\n",
    "display(matriz_5)\n",
    "\n",
    "matriz_invertida = matriz_5[:,::-1]\n",
    "matriz_invertida\n"
   ]
  },
  {
   "cell_type": "code",
   "execution_count": 61,
   "metadata": {},
   "outputs": [
    {
     "data": {
      "text/plain": [
       "array([ 1,  2,  3,  4,  5,  6,  7,  8,  9, 10])"
      ]
     },
     "metadata": {},
     "output_type": "display_data"
    },
    {
     "data": {
      "text/plain": [
       "array([10,  9,  8,  7,  6,  5,  4,  3,  2,  1])"
      ]
     },
     "execution_count": 61,
     "metadata": {},
     "output_type": "execute_result"
    }
   ],
   "source": [
    "#exemplo 2 \n",
    "array = np.arange(1,11)\n",
    "display(array)\n",
    "\n",
    "array_invertido = array[::-1]\n",
    "array_invertido"
   ]
  },
  {
   "cell_type": "code",
   "execution_count": 66,
   "metadata": {},
   "outputs": [
    {
     "data": {
      "text/plain": [
       "(array([1, 3, 6, 7], dtype=int64),)"
      ]
     },
     "metadata": {},
     "output_type": "display_data"
    }
   ],
   "source": [
    "# Exercício 9:\n",
    "# Dado o array NumPy abaixo, retorne os índices dos elementos maiores que 5:\n",
    "\n",
    "# matriz =([1, 6, 2, 8, 3, 4, 9, 7])\n",
    "\n",
    "matriz_6 = np.array([1, 6, 2, 8, 3, 4, 9, 7])\n",
    "array_indices = np.where(matriz_6 > 5)\n",
    "\n",
    "display(array_indices)"
   ]
  },
  {
   "cell_type": "code",
   "execution_count": 70,
   "metadata": {},
   "outputs": [
    {
     "data": {
      "text/plain": [
       "array([ 6, 15, 24])"
      ]
     },
     "execution_count": 70,
     "metadata": {},
     "output_type": "execute_result"
    }
   ],
   "source": [
    "# Exercício 10:\n",
    "# Dado o array NumPy abaixo, calcule a soma acumulada de cada linha:\n",
    "\n",
    "#         matriz =([[1, 2, 3],\n",
    "#                 [4, 5, 6],\n",
    "#                 [7, 8, 9]])\n",
    "matriz_7 = np.arange(1,10)\n",
    "matriz_7 = np.reshape(matriz_7,(3,3))\n",
    "np.sum(matriz_7,axis=1)"
   ]
  }
 ],
 "metadata": {
  "kernelspec": {
   "display_name": "Python 3",
   "language": "python",
   "name": "python3"
  },
  "language_info": {
   "codemirror_mode": {
    "name": "ipython",
    "version": 3
   },
   "file_extension": ".py",
   "mimetype": "text/x-python",
   "name": "python",
   "nbconvert_exporter": "python",
   "pygments_lexer": "ipython3",
   "version": "3.10.11"
  },
  "orig_nbformat": 4
 },
 "nbformat": 4,
 "nbformat_minor": 2
}
