{
 "cells": [
  {
   "cell_type": "code",
   "execution_count": 1,
   "metadata": {},
   "outputs": [],
   "source": [
    "import numpy as np"
   ]
  },
  {
   "cell_type": "code",
   "execution_count": 2,
   "metadata": {},
   "outputs": [
    {
     "data": {
      "text/plain": [
       "array([[-1.,  0.,  1.],\n",
       "       [-1.,  0.,  1.],\n",
       "       [-1.,  0.,  1.],\n",
       "       [-1.,  0.,  1.]])"
      ]
     },
     "execution_count": 2,
     "metadata": {},
     "output_type": "execute_result"
    }
   ],
   "source": [
    "# Exercício 1: Dada uma matriz 2D, normalize cada linha subtraindo a média da linha.\n",
    "matriz2D = np.array([[1,2,3],[4,5,6],[7,8,9],[10,11,12]])\n",
    "\n",
    "linhas = matriz2D.shape[0]\n",
    "colunas = matriz2D.shape[1]\n",
    "\n",
    "matrizNormalizada = np.empty((0,colunas))\n",
    "\n",
    "for i in range(linhas):\n",
    "    \n",
    "    somaLinha = matriz2D[i].sum()\n",
    "    mediaLinha = somaLinha/colunas\n",
    "    matriz = matriz2D[i]-mediaLinha\n",
    "    matrizNormalizada = np.block([[matrizNormalizada],[matriz]])\n",
    "    \n",
    "matrizNormalizada\n",
    "\n"
   ]
  },
  {
   "cell_type": "code",
   "execution_count": 78,
   "metadata": {},
   "outputs": [
    {
     "name": "stdout",
     "output_type": "stream",
     "text": [
      "[ 2.  5.  8. 11.]\n",
      "[[-1.  0.  1.]\n",
      " [-1.  0.  1.]\n",
      " [-1.  0.  1.]\n",
      " [-1.  0.  1.]]\n"
     ]
    }
   ],
   "source": [
    "\n",
    "\n",
    "matriz2D = np.array([[1, 2, 3], [4, 5, 6], [7, 8, 9], [10, 11, 12]])\n",
    "\n",
    "medias = np.mean(matriz2D, axis=1)  # Médias de cada linha\n",
    "matrizNormalizada = matriz2D - medias[:, np.newaxis]  # Subtração das médias por linha\n",
    "\n",
    "print(matrizNormalizada)"
   ]
  },
  {
   "cell_type": "code",
   "execution_count": 135,
   "metadata": {},
   "outputs": [
    {
     "name": "stdout",
     "output_type": "stream",
     "text": [
      "[  1.    2.5   4.    5.5   7.    8.5  10.   11.5  13.   14.5  16.   17.5\n",
      "  19.   20.5  22.   23.5  25.   26.5  28.   29.5  31.   32.5  34.   35.5\n",
      "  37.   38.5  40.   41.5  43.   44.5  46.   47.5  49.   50.5  52.   53.5\n",
      "  55.   56.5  58.   59.5  61.   62.5  64.   65.5  67.   68.5  70.   71.5\n",
      "  73.   74.5  76.   77.5  79.   80.5  82.   83.5  85.   86.5  88.   89.5\n",
      "  91.   92.5  94.   95.5  97.   98.5 100. ]\n",
      "[2.5]\n"
     ]
    }
   ],
   "source": [
    "# Exercício 2: Dado um array numpy 1D, encontre o valor mais próximo de um número específico.\n",
    "array = np.arange(start = 1, stop=100 + 1, step =1.5, dtype= float)\n",
    "numeroExemplo = 1.9\n",
    "print(array)\n",
    "if numeroExemplo in array:\n",
    "    print(numeroExemplo)\n",
    "else:\n",
    "    array = np.append(array,numeroExemplo)\n",
    "    array.sort()\n",
    "    shape = np.shape(array)\n",
    "    \n",
    "    if array[0] == numeroExemplo:\n",
    "        print(array[1])\n",
    "    elif  array[shape[0]-1] == numeroExemplo:\n",
    "        print(array[shape[0]-2] )\n",
    "        \n",
    "    else:\n",
    "        index = np.where(array == numeroExemplo)\n",
    "        indexmaior = array[index[0]+1]\n",
    "        indexmenor=array[index[0]-1]\n",
    "        \n",
    "        if numeroExemplo - indexmenor > indexmaior - numeroExemplo:\n",
    "            print(array[index[0]+1])\n",
    "        else:\n",
    "            print(array[index[0]-1])\n",
    "\n",
    "    "
   ]
  },
  {
   "cell_type": "code",
   "execution_count": 139,
   "metadata": {},
   "outputs": [
    {
     "name": "stdout",
     "output_type": "stream",
     "text": [
      "8.5\n"
     ]
    }
   ],
   "source": [
    "# Array numpy 1D\n",
    "array = np.arange(start = 1, stop=100 + 1, step =1.5, dtype= float)\n",
    "# Número específico\n",
    "numero_especifico = 9\n",
    "# Encontrar o valor mais próximo\n",
    "valor_proximo = array[np.abs(array - numero_especifico).argmin()]\n",
    "print(valor_proximo)"
   ]
  },
  {
   "cell_type": "code",
   "execution_count": 48,
   "metadata": {},
   "outputs": [
    {
     "data": {
      "text/plain": [
       "array([[79, 27, 91, 36,  0],\n",
       "       [86, 21, 93, 37, 68],\n",
       "       [67,  0,  0, 67, 28],\n",
       "       [99, 95, 48, 37, 32],\n",
       "       [94, 50, 61, 87, 93]])"
      ]
     },
     "execution_count": 48,
     "metadata": {},
     "output_type": "execute_result"
    }
   ],
   "source": [
    "# Exercício 3: Dada uma matriz 2D, substitua todos os valores abaixo de um limiar por zero.\n",
    "matriz2D = np.random.randint(low = 1, high=101, size = (5,5))\n",
    "limiar = 20\n",
    "\n",
    "matrizZeros = np.where(matriz2D <= limiar, 0, matriz2D)\n",
    "\n",
    "matrizZeros\n"
   ]
  },
  {
   "cell_type": "code",
   "execution_count": 56,
   "metadata": {},
   "outputs": [
    {
     "data": {
      "text/plain": [
       "array([ 1,  4,  7, 10, 13, 16, 19, 22, 25, 28, 31, 34, 37, 40, 43, 46, 49])"
      ]
     },
     "metadata": {},
     "output_type": "display_data"
    },
    {
     "data": {
      "text/plain": [
       "(array([ 1,  3,  5,  7,  9, 11, 13, 15], dtype=int64),)"
      ]
     },
     "execution_count": 56,
     "metadata": {},
     "output_type": "execute_result"
    }
   ],
   "source": [
    "# Exercício 4: Dado um array numpy 1D, encontre os índices dos elementos que satisfazem uma determinada condição.\n",
    "array1D = np.arange(start=1, stop=50, step = 3)\n",
    "display(array1D)\n",
    "\n",
    "np.where(array1D % 2 == 0)\n"
   ]
  },
  {
   "cell_type": "code",
   "execution_count": 71,
   "metadata": {},
   "outputs": [
    {
     "data": {
      "text/plain": [
       "array([4., 3., 5., 7.])"
      ]
     },
     "metadata": {},
     "output_type": "display_data"
    },
    {
     "data": {
      "text/plain": [
       "array([[ 2,  2,  4,  8],\n",
       "       [ 5,  3,  5,  3],\n",
       "       [ 5,  4,  6, 10]])"
      ]
     },
     "metadata": {},
     "output_type": "display_data"
    },
    {
     "data": {
      "text/plain": [
       "array([[-2., -1., -1.,  1.],\n",
       "       [ 1.,  0.,  0., -4.],\n",
       "       [ 1.,  1.,  1.,  3.]])"
      ]
     },
     "execution_count": 71,
     "metadata": {},
     "output_type": "execute_result"
    }
   ],
   "source": [
    "# Exercício 5: Dada uma matriz 2D, calcule a média de cada coluna e subtraia essa média de cada elemento da coluna.\n",
    "matriz2D = np.array([[2,2,4,8],[5,3,5,3],[5,4,6,10]])\n",
    "linha1 = np.mean(matriz2D, axis=0)\n",
    "display(linha1)\n",
    "matriznormalizada = matriz2D - linha1\n",
    "display(matriz2D)\n",
    "matriznormalizada"
   ]
  },
  {
   "cell_type": "code",
   "execution_count": 145,
   "metadata": {},
   "outputs": [
    {
     "data": {
      "text/plain": [
       "array([3, 8, 4, 1, 7, 9, 3, 6, 2, 6])"
      ]
     },
     "metadata": {},
     "output_type": "display_data"
    },
    {
     "name": "stdout",
     "output_type": "stream",
     "text": [
      "[9. 8. 7. 6. 6.]\n"
     ]
    }
   ],
   "source": [
    "# Exercício 6: Dado um array numpy 1D, encontre os top N valores máximos sem usar o método numpy.sort().\n",
    "array1D = np.random.randint(low = 1, high= 10, size = 10)\n",
    "display(array1D)\n",
    "arrayTop = np.array([])\n",
    "\n",
    "for i in range(5):\n",
    "    arrayTop = np.append(arrayTop,array1D.max())\n",
    "    indice_a_deletar = np.where(array1D == array1D.max())[0][0]\n",
    "    array1D = np.delete(array1D,indice_a_deletar, axis=0)\n",
    "\n",
    "print(arrayTop)    \n",
    "# [array1D.max(), np.delete(array1D,1,axis=0) for x in range(5)]\n",
    "\n"
   ]
  },
  {
   "cell_type": "code",
   "execution_count": 152,
   "metadata": {},
   "outputs": [
    {
     "data": {
      "text/plain": [
       "array([[23, 21, 24, 27, 29],\n",
       "       [27, 22, 23, 22, 20],\n",
       "       [27, 22, 29, 24, 27],\n",
       "       [28, 25, 22, 24, 27],\n",
       "       [25, 22, 23, 28, 23]])"
      ]
     },
     "metadata": {},
     "output_type": "display_data"
    },
    {
     "data": {
      "text/plain": [
       "array([29, 27, 29, 28, 28])"
      ]
     },
     "execution_count": 152,
     "metadata": {},
     "output_type": "execute_result"
    }
   ],
   "source": [
    "# Exercício 7: Dada uma matriz 2D, encontre os índices dos K maiores valores em cada linha.\n",
    "matriz2D = np.random.randint(low = 20, high= 31, size =(5,5))\n",
    "matrizMax = matriz2D.max(axis=1)\n",
    "display(matriz2D)\n",
    "matrizMax\n"
   ]
  },
  {
   "cell_type": "code",
   "execution_count": 16,
   "metadata": {},
   "outputs": [
    {
     "data": {
      "text/plain": [
       "array([ 9, 10,  7,  5])"
      ]
     },
     "metadata": {},
     "output_type": "display_data"
    },
    {
     "data": {
      "text/plain": [
       "array([[ 6561,   729,    81,     9,     1],\n",
       "       [10000,  1000,   100,    10,     1],\n",
       "       [ 2401,   343,    49,     7,     1],\n",
       "       [  625,   125,    25,     5,     1]])"
      ]
     },
     "metadata": {},
     "output_type": "display_data"
    },
    {
     "data": {
      "text/plain": [
       "array([ 7381, 11111,  2801,   781])"
      ]
     },
     "execution_count": 16,
     "metadata": {},
     "output_type": "execute_result"
    }
   ],
   "source": [
    "# Exercício 8: Dado um array numpy 1D, calcule a soma cumulativa dos elementos ao quadrado.\n",
    "arrayInt = np.random.randint(low = 1, high=11, size = 4)\n",
    "display(arrayInt)\n",
    "matrizQuadrados = np.vander(arrayInt, N=5)\n",
    "display(matrizQuadrados)\n",
    "matrizQuadrados.sum(axis=1)\n"
   ]
  },
  {
   "cell_type": "code",
   "execution_count": 8,
   "metadata": {},
   "outputs": [
    {
     "data": {
      "text/plain": [
       "array([ 1,  2,  3,  4,  5,  6,  7,  8,  9, 10, 11, 12, 13, 14, 15, 16, 17,\n",
       "       18, 19, 20, 21, 22, 23, 24, 25])"
      ]
     },
     "metadata": {},
     "output_type": "display_data"
    },
    {
     "data": {
      "text/plain": [
       "25"
      ]
     },
     "metadata": {},
     "output_type": "display_data"
    },
    {
     "data": {
      "text/plain": [
       "array([[ 1,  2,  3,  4,  5],\n",
       "       [ 6,  7,  8,  9, 10],\n",
       "       [11, 12, 13, 14, 15],\n",
       "       [16, 17, 18, 19, 20],\n",
       "       [21, 22, 23, 24, 25]])"
      ]
     },
     "metadata": {},
     "output_type": "display_data"
    },
    {
     "data": {
      "text/plain": [
       "array([[ 1,  2,  3,  4,  5],\n",
       "       [ 6,  7,  8,  9, 10],\n",
       "       [11, 12, 13, 14, 15],\n",
       "       [16, 17, 18, 19, 20],\n",
       "       [21, 22, 23, 24, 25]])"
      ]
     },
     "metadata": {},
     "output_type": "display_data"
    },
    {
     "data": {
      "text/plain": [
       "'Médias diagonais'"
      ]
     },
     "metadata": {},
     "output_type": "display_data"
    },
    {
     "data": {
      "text/plain": [
       "13.0"
      ]
     },
     "metadata": {},
     "output_type": "display_data"
    },
    {
     "data": {
      "text/plain": [
       "13.0"
      ]
     },
     "metadata": {},
     "output_type": "display_data"
    }
   ],
   "source": [
    "# Exercício 9: Dada uma matriz 2D, encontre a média dos elementos nas diagonais principal e secundária.\n",
    "matrizNum = np.arange(start = 1, stop = 26)\n",
    "display(matrizNum,np.shape(matrizNum)[0])\n",
    "\n",
    "matrizNum2D = matrizNum.reshape((5,5))\n",
    "display(matrizNum2D)\n",
    "\n",
    "matrizNum2D = np.reshape(matrizNum2D, (5,5))\n",
    "display(matrizNum2D)\n",
    "\n",
    "diagPrincipal = np.diag(matrizNum2D).mean()\n",
    "diagSecundaria = np.diag(np.fliplr(matrizNum2D)).mean()\n",
    "display(\"Médias diagonais\")\n",
    "display(diagPrincipal,diagSecundaria)"
   ]
  },
  {
   "cell_type": "code",
   "execution_count": 32,
   "metadata": {},
   "outputs": [
    {
     "data": {
      "text/plain": [
       "array([ 3,  7,  7,  2,  1,  3,  2,  6,  8,  8,  2, 10,  1,  4, 10])"
      ]
     },
     "metadata": {},
     "output_type": "display_data"
    },
    {
     "data": {
      "text/plain": [
       "array([ 1,  2,  3,  4,  6,  7,  8, 10])"
      ]
     },
     "metadata": {},
     "output_type": "display_data"
    },
    {
     "name": "stdout",
     "output_type": "stream",
     "text": [
      "[2, 3, 2, 1, 1, 2, 2, 2]\n",
      "[[ 1  2]\n",
      " [ 2  3]\n",
      " [ 3  2]\n",
      " [ 4  1]\n",
      " [ 6  1]\n",
      " [ 7  2]\n",
      " [ 8  2]\n",
      " [10  2]]\n"
     ]
    }
   ],
   "source": [
    "# Exercício 10: Dado um array numpy 1D, encontre o número de valores únicos e sua contagem.\n",
    "array1D = np.random.randint(low=1, high= 11, size = 15)\n",
    "display(array1D)\n",
    "arrayConjunto = np.array(list(set(array1D)))\n",
    "display(arrayConjunto)\n",
    "lista = []\n",
    "for valor in arrayConjunto:\n",
    "    n = np.count_nonzero( array1D == valor)\n",
    "    lista.append(n)\n",
    "print(lista)\n",
    "matrizresposta = np.array(list((zip(arrayConjunto,np.array(lista)))))\n",
    "print(matrizresposta) "
   ]
  },
  {
   "cell_type": "code",
   "execution_count": 40,
   "metadata": {},
   "outputs": [
    {
     "data": {
      "text/html": [
       "<div>\n",
       "<style scoped>\n",
       "    .dataframe tbody tr th:only-of-type {\n",
       "        vertical-align: middle;\n",
       "    }\n",
       "\n",
       "    .dataframe tbody tr th {\n",
       "        vertical-align: top;\n",
       "    }\n",
       "\n",
       "    .dataframe thead th {\n",
       "        text-align: right;\n",
       "    }\n",
       "</style>\n",
       "<table border=\"1\" class=\"dataframe\">\n",
       "  <thead>\n",
       "    <tr style=\"text-align: right;\">\n",
       "      <th></th>\n",
       "      <th>Valores</th>\n",
       "      <th>Repetições</th>\n",
       "      <th>Unico</th>\n",
       "    </tr>\n",
       "  </thead>\n",
       "  <tbody>\n",
       "    <tr>\n",
       "      <th>0</th>\n",
       "      <td>1</td>\n",
       "      <td>2</td>\n",
       "      <td>False</td>\n",
       "    </tr>\n",
       "    <tr>\n",
       "      <th>1</th>\n",
       "      <td>2</td>\n",
       "      <td>3</td>\n",
       "      <td>False</td>\n",
       "    </tr>\n",
       "    <tr>\n",
       "      <th>2</th>\n",
       "      <td>3</td>\n",
       "      <td>2</td>\n",
       "      <td>False</td>\n",
       "    </tr>\n",
       "    <tr>\n",
       "      <th>3</th>\n",
       "      <td>4</td>\n",
       "      <td>1</td>\n",
       "      <td>True</td>\n",
       "    </tr>\n",
       "    <tr>\n",
       "      <th>4</th>\n",
       "      <td>6</td>\n",
       "      <td>1</td>\n",
       "      <td>True</td>\n",
       "    </tr>\n",
       "    <tr>\n",
       "      <th>5</th>\n",
       "      <td>7</td>\n",
       "      <td>2</td>\n",
       "      <td>False</td>\n",
       "    </tr>\n",
       "    <tr>\n",
       "      <th>6</th>\n",
       "      <td>8</td>\n",
       "      <td>2</td>\n",
       "      <td>False</td>\n",
       "    </tr>\n",
       "    <tr>\n",
       "      <th>7</th>\n",
       "      <td>10</td>\n",
       "      <td>2</td>\n",
       "      <td>False</td>\n",
       "    </tr>\n",
       "  </tbody>\n",
       "</table>\n",
       "</div>"
      ],
      "text/plain": [
       "   Valores  Repetições  Unico\n",
       "0        1           2  False\n",
       "1        2           3  False\n",
       "2        3           2  False\n",
       "3        4           1   True\n",
       "4        6           1   True\n",
       "5        7           2  False\n",
       "6        8           2  False\n",
       "7       10           2  False"
      ]
     },
     "execution_count": 40,
     "metadata": {},
     "output_type": "execute_result"
    }
   ],
   "source": [
    "import pandas as pd\n",
    "\n",
    "df = pd.DataFrame(matrizresposta,columns= (\"Valores\",\"Repetições\"))\n",
    "df[\"Unico\"] = np.where(df[\"Repetições\"] == 1,True,False)\n",
    "df"
   ]
  }
 ],
 "metadata": {
  "kernelspec": {
   "display_name": "Python 3",
   "language": "python",
   "name": "python3"
  },
  "language_info": {
   "codemirror_mode": {
    "name": "ipython",
    "version": 3
   },
   "file_extension": ".py",
   "mimetype": "text/x-python",
   "name": "python",
   "nbconvert_exporter": "python",
   "pygments_lexer": "ipython3",
   "version": "3.10.11"
  },
  "orig_nbformat": 4
 },
 "nbformat": 4,
 "nbformat_minor": 2
}
